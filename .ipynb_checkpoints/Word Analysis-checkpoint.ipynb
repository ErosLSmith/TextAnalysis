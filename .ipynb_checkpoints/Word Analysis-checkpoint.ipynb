{
 "cells": [
  {
   "cell_type": "markdown",
   "metadata": {},
   "source": [
    "# Introduction\n",
    "\n",
    "![](https://www.walldevil.com/wallpapers/a74/wallpapers-pumpkin-halloween-cuties-spooky-nature.jpg)\"\n"
   ]
  },
  {
   "cell_type": "code",
   "execution_count": 44,
   "metadata": {
    "collapsed": false
   },
   "outputs": [],
   "source": [
    "from dataproject import getTopTwentyDataFrame\n",
    "from dataproject import go\n",
    "from dataproject import offline\n",
    "import plotly.plotly as py\n",
    "from dataproject import np"
   ]
  },
  {
   "cell_type": "code",
   "execution_count": 46,
   "metadata": {
    "collapsed": false,
    "scrolled": true
   },
   "outputs": [
    {
     "data": {
      "text/plain": [
       "'file:///home/eros/data/NounCounts.html'"
      ]
     },
     "execution_count": 46,
     "metadata": {},
     "output_type": "execute_result"
    }
   ],
   "source": [
    "df = getTopTwentyDataFrame(\"noun_counts.txt/part-00000\")\n",
    "\n",
    "data = [go.Bar(y=df['count'],\n",
    "               x=df['word'],\n",
    "               marker=dict(colorscale='Viridis',\n",
    "               color=df['count']))]\n",
    "layout = go.Layout(title='Top 20 Nouns in the Works of Edgar Allen Poe')\n",
    "fig = go.Figure(data=data, layout=layout)\n",
    "offline.plot(fig, filename='NounCounts.html')"
   ]
  },
  {
   "cell_type": "code",
   "execution_count": 49,
   "metadata": {
    "collapsed": false
   },
   "outputs": [
    {
     "data": {
      "text/plain": [
       "'file:///home/eros/data/NounFrequencyScatterPlot.html'"
      ]
     },
     "execution_count": 49,
     "metadata": {},
     "output_type": "execute_result"
    }
   ],
   "source": [
    "x = np.array([])\n",
    "y = np.array([])\n",
    "\n",
    "for i in range(20):\n",
    "    locs = np.asarray(df.iloc[i]['locations'])\n",
    "    y = np.append(y, df.iloc[i]['locations'])\n",
    "    x = np.append(x, np.full(len(df.iloc[i]['locations'], ), i))\n",
    "\n",
    "\n",
    "# Create a trace\n",
    "trace = go.Scatter(\n",
    "    x=x,\n",
    "    y=y,\n",
    "    mode='markers',\n",
    "    marker=dict(\n",
    "        size='8',\n",
    "        colorscale='Viridis',\n",
    "        color=y\n",
    "    )\n",
    ")\n",
    "labels = df['word']\n",
    "bandxaxis = go.XAxis(\n",
    "    title=\"words\",\n",
    "    range=[-1, len(labels)],\n",
    "    showgrid=True,\n",
    "    showline=True,\n",
    "    ticks=\"\",\n",
    "    showticklabels=True,\n",
    "    mirror=True,\n",
    "    linewidth=2,\n",
    "    ticktext=labels,\n",
    "    tickvals=[i for i in range(len(labels))]\n",
    ")\n",
    "bandyaxis = go.YAxis(\n",
    "    title=\"Placement of Word in Text by Word Count\"\n",
    ")\n",
    "bandlayout = go.Layout(\n",
    "    title=\"Scatter Plot of Top 20 Noun placements within the text\",\n",
    "    xaxis=bandxaxis,\n",
    "    yaxis=bandyaxis\n",
    ")\n",
    "data = [trace]\n",
    "fig = go.Figure(data=data, layout=bandlayout)\n",
    "offline.plot(fig, filename='NounFrequencyScatterPlot.html')"
   ]
  }
 ],
 "metadata": {
  "kernelspec": {
   "display_name": "Python 3",
   "language": "python",
   "name": "python3"
  },
  "language_info": {
   "codemirror_mode": {
    "name": "ipython",
    "version": 3
   },
   "file_extension": ".py",
   "mimetype": "text/x-python",
   "name": "python",
   "nbconvert_exporter": "python",
   "pygments_lexer": "ipython3",
   "version": "3.5.2"
  }
 },
 "nbformat": 4,
 "nbformat_minor": 2
}
